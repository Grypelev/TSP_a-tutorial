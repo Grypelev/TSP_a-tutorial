{
  "nbformat": 4,
  "nbformat_minor": 0,
  "metadata": {
    "colab": {
      "name": "Greedy_Algorithm.ipynb",
      "provenance": [],
      "collapsed_sections": [],
      "toc_visible": true
    },
    "kernelspec": {
      "name": "python3",
      "display_name": "Python 3"
    }
  },
  "cells": [
    {
      "cell_type": "markdown",
      "metadata": {
        "id": "roxCCzX6cQ-e",
        "colab_type": "text"
      },
      "source": [
        "# Initialization "
      ]
    },
    {
      "cell_type": "code",
      "metadata": {
        "id": "hzwmqW8VTDCv",
        "colab_type": "code",
        "colab": {}
      },
      "source": [
        "import matplotlib.pyplot as plt\n",
        "import numpy as np\n",
        "import pandas as pd\n",
        "from statistics import mean\n",
        "from timeit import default_timer as timer\n",
        "from math import sqrt, exp\n",
        "from random import shuffle, random, randint\n",
        "from google.colab import files"
      ],
      "execution_count": 0,
      "outputs": []
    },
    {
      "cell_type": "code",
      "metadata": {
        "id": "rp4Rkbcba8Ga",
        "colab_type": "code",
        "colab": {}
      },
      "source": [
        "# Download the \"Coors_140.csv\" from the GitHub repository and upload it\n",
        "uploaded = files.upload()"
      ],
      "execution_count": 0,
      "outputs": []
    },
    {
      "cell_type": "code",
      "metadata": {
        "id": "0vgEqhZC4Sgj",
        "colab_type": "code",
        "colab": {}
      },
      "source": [
        "coors = pd.read_csv(\"Coors_140.csv\") \n",
        "coords = coors.to_numpy()\n",
        "coords = np.delete(coords, 0,1)\n",
        "amount_of_coordinates = 20\n",
        "Coordinates = coords[:amount_of_coordinates]\n",
        "\n",
        "#Plotting\n",
        "plt.scatter(Coordinates[0][1], Coordinates[0][2], c='r', marker='D')\n",
        "plt.scatter(Coordinates[1:,1], Coordinates[1:,2])"
      ],
      "execution_count": 0,
      "outputs": []
    },
    {
      "cell_type": "code",
      "metadata": {
        "id": "1xlQAtezdA1i",
        "colab_type": "code",
        "colab": {
          "base_uri": "https://localhost:8080/",
          "height": 282
        },
        "outputId": "d3d48b16-c509-4524-9c5d-d356a6b9adee"
      },
      "source": [
        "# If you prefer to generate the coordinates follow this:\n",
        "nodes = 50\n",
        "Coordinates = np.ones((nodes, 3))\n",
        "Coordinates[0] = 1, 0.5, 0.5\n",
        "\n",
        "for i in range(1, nodes):\n",
        "  Coordinates[i] = int(i+1), random(), random()\n",
        "\n",
        "#Plotting\n",
        "plt.scatter(Coordinates[0][1], Coordinates[0][2], c='r', marker='D')\n",
        "plt.scatter(Coordinates[1:,1], Coordinates[1:,2])"
      ],
      "execution_count": 20,
      "outputs": [
        {
          "output_type": "execute_result",
          "data": {
            "text/plain": [
              "<matplotlib.collections.PathCollection at 0x7fdb64a2fac8>"
            ]
          },
          "metadata": {
            "tags": []
          },
          "execution_count": 20
        },
        {
          "output_type": "display_data",
          "data": {
            "image/png": "[encoded data removed]",
            "text/plain": [
              "<Figure size 432x288 with 1 Axes>"
            ]
          },
          "metadata": {
            "tags": []
          }
        }
      ]
    },
    {
      "cell_type": "markdown",
      "metadata": {
        "id": "I5BuBlE6bVQa",
        "colab_type": "text"
      },
      "source": [
        "# Distance Matrix"
      ]
    },
    {
      "cell_type": "code",
      "metadata": {
        "id": "pyrj0QvMbVu_",
        "colab_type": "code",
        "colab": {}
      },
      "source": [
        "def Distance(x1, y1, x2, y2):\n",
        "    return sqrt((x1-x2)**2+(y1-y2)**2)\n",
        "\n",
        "#Creating Distance Matrix\n",
        "length = len(Coordinates)\n",
        "Distance_Matrix = np.zeros((length, length))\n",
        "for i in range(length):\n",
        "  for j in range(length):\n",
        "    Distance_Matrix[i][j] = Distance(Coordinates[i][1],  Coordinates[i][2], Coordinates[j][1], Coordinates[j][2])"
      ],
      "execution_count": 0,
      "outputs": []
    },
    {
      "cell_type": "markdown",
      "metadata": {
        "id": "liH-dMge263D",
        "colab_type": "text"
      },
      "source": [
        "# Functions"
      ]
    },
    {
      "cell_type": "code",
      "metadata": {
        "id": "8LwWst4Wqkpe",
        "colab_type": "code",
        "colab": {}
      },
      "source": [
        "def Plotting(tour, coords):\n",
        "    n=len(tour)\n",
        "    longitude=[]\n",
        "    latitude=[]\n",
        "    \n",
        "    for i in range(n):\n",
        "            longitude.append(coords[tour[i]-1, 1])\n",
        "            latitude.append(coords[tour[i]-1, 2])\n",
        "    plt.figure()    \n",
        "    plt.plot([longitude[i] for i in range(n)],\n",
        "              [latitude[i] for i in range(n)],'-.', color='cornflowerblue')\n",
        "    plt.scatter(Coordinates[0][1], Coordinates[0][2], c = 'r', marker='D')\n",
        "    plt.scatter(Coordinates[1:,1], Coordinates[1:,2])"
      ],
      "execution_count": 0,
      "outputs": []
    },
    {
      "cell_type": "code",
      "metadata": {
        "id": "y4PJMLP30G-d",
        "colab_type": "code",
        "colab": {}
      },
      "source": [
        "def FindCurrentCost(CurTour):\n",
        "    temporaryDis=0\n",
        "    for i in range(len(CurTour)-1):    \n",
        "       temporaryDis += Distance_Matrix[CurTour[i]-1,CurTour[i+1]-1]\n",
        "    return temporaryDis "
      ],
      "execution_count": 0,
      "outputs": []
    },
    {
      "cell_type": "markdown",
      "metadata": {
        "id": "XwcgaE9tAQ9M",
        "colab_type": "text"
      },
      "source": [
        "# Greedy\n"
      ]
    },
    {
      "cell_type": "code",
      "metadata": {
        "id": "JaRWP0kxAUVm",
        "colab_type": "code",
        "outputId": "3f3ee4fb-10ee-407a-ea97-aeabce373127",
        "colab": {
          "base_uri": "https://localhost:8080/",
          "height": 336
        }
      },
      "source": [
        "start = timer()\n",
        "n = len(Coordinates)\n",
        "dis=np.full((n,n),float(9999999))\n",
        "for i in range(n):\n",
        "    for j in range(n):\n",
        "        if i == j:\n",
        "            continue\n",
        "        else:\n",
        "            dis[i,j]=Distance_Matrix[i][j]\n",
        "\n",
        "dis[:,0]=9999999\n",
        "\n",
        "Greedy_Tour=[1]\n",
        "i=0\n",
        "counter=0\n",
        "\n",
        "while True:\n",
        "  idx=np.where(dis == min(dis[i,:]))\n",
        "  if len(idx[1]) == 1:\n",
        "      Greedy_Tour.append(int(idx[1]+1))\n",
        "      dis[:,int(idx[1])]=9999999\n",
        "      i=int(idx[1])\n",
        "  else:\n",
        "      Greedy_Tour.append(int(idx[1][0]+1))\n",
        "      dis[:,int(idx[0][1])]=9999999\n",
        "      i=int(idx[0][1])\n",
        "  del idx\n",
        "  \n",
        "  counter+=1\n",
        "  if counter == n-1:\n",
        "      break\n",
        "\n",
        "Greedy_Tour.append(1)\n",
        "Greedy_Tour_Cost = FindCurrentCost(Greedy_Tour)\n",
        "end = timer() \n",
        "\n",
        "print(\"Greedy Tour:\",Greedy_Tour)\n",
        "print(\"Greedy Tour cost:\",\"{0:.3f}\".format(round(Greedy_Tour_Cost,3)))\n",
        "print(\"Calculation Time:\",\"{0:.4f}\".format(round((end - start),4)), \"sec\")\n",
        "Plotting(Greedy_Tour, Coordinates)"
      ],
      "execution_count": 23,
      "outputs": [
        {
          "output_type": "stream",
          "text": [
            "Greedy Tour: [1, 46, 7, 29, 3, 27, 33, 25, 22, 23, 42, 21, 47, 12, 39, 28, 4, 9, 6, 34, 14, 17, 48, 30, 5, 10, 16, 45, 40, 20, 35, 31, 11, 36, 8, 18, 41, 19, 2, 43, 44, 13, 24, 26, 32, 15, 50, 38, 49, 37, 1]\n",
            "Greedy Tour cost: 7.119\n",
            "Calculation Time: 0.0038 sec\n"
          ],
          "name": "stdout"
        },
        {
          "output_type": "display_data",
          "data": {
            "image/png": "[encoded data removed]",
            "text/plain": [
              "<Figure size 432x288 with 1 Axes>"
            ]
          },
          "metadata": {
            "tags": []
          }
        }
      ]
    }
  ]
}