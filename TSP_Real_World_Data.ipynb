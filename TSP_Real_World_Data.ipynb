{
  "nbformat": 4,
  "nbformat_minor": 0,
  "metadata": {
    "colab": {
      "name": "TSP_Real-World_Data.ipynb",
      "provenance": [],
      "collapsed_sections": [],
      "toc_visible": true
    },
    "kernelspec": {
      "name": "python3",
      "display_name": "Python 3"
    }
  },
  "cells": [
    {
      "cell_type": "markdown",
      "metadata": {
        "id": "vBGz8ChJwOZq",
        "colab_type": "text"
      },
      "source": [
        "# Initialization"
      ]
    },
    {
      "cell_type": "code",
      "metadata": {
        "id": "baJqcOT1tTL3",
        "colab_type": "code",
        "colab": {}
      },
      "source": [
        "!pip install -U googlemaps"
      ],
      "execution_count": 0,
      "outputs": []
    },
    {
      "cell_type": "code",
      "metadata": {
        "id": "QHpvN2KTfoev",
        "colab_type": "code",
        "colab": {}
      },
      "source": [
        "!pip install gmplot"
      ],
      "execution_count": 0,
      "outputs": []
    },
    {
      "cell_type": "code",
      "metadata": {
        "id": "e88LxvzYtc4b",
        "colab_type": "code",
        "colab": {}
      },
      "source": [
        "from  googlemaps import Client\n",
        "from google.colab import files\n",
        "from random import shuffle, randint, random\n",
        "from math import exp\n",
        "from gmplot import *\n",
        "from datetime import datetime, timedelta\n",
        "from timeit import default_timer as timer\n",
        "import pandas as pd\n",
        "import numpy as np\n",
        "import matplotlib.pyplot as plt"
      ],
      "execution_count": 0,
      "outputs": []
    },
    {
      "cell_type": "code",
      "metadata": {
        "id": "DlA3SuA3b2fp",
        "colab_type": "code",
        "colab": {}
      },
      "source": [
        "gmaps = Client(key='your API key')"
      ],
      "execution_count": 0,
      "outputs": []
    },
    {
      "cell_type": "code",
      "metadata": {
        "id": "65kUswewutEO",
        "colab_type": "code",
        "outputId": "f8487221-02b6-45e2-ed9c-ea79005a22cc",
        "colab": {
          "resources": {
            "http://localhost:8080/nbextensions/google.colab/files.js": {
              "data": "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",
              "ok": true,
              "headers": [
                [
                  "content-type",
                  "application/javascript"
                ]
              ],
              "status": 200,
              "status_text": ""
            }
          },
          "base_uri": "https://localhost:8080/",
          "height": 74
        }
      },
      "source": [
        "uploaded = files.upload()"
      ],
      "execution_count": 0,
      "outputs": [
        {
          "output_type": "display_data",
          "data": {
            "text/html": [
              "\n",
              "     <input type=\"file\" id=\"files-58ba90a5-f954-4c8d-80dd-0b9e82ae05e1\" name=\"files[]\" multiple disabled />\n",
              "     <output id=\"result-58ba90a5-f954-4c8d-80dd-0b9e82ae05e1\">\n",
              "      Upload widget is only available when the cell has been executed in the\n",
              "      current browser session. Please rerun this cell to enable.\n",
              "      </output>\n",
              "      <script src=\"/nbextensions/google.colab/files.js\"></script> "
            ],
            "text/plain": [
              "<IPython.core.display.HTML object>"
            ]
          },
          "metadata": {
            "tags": []
          }
        },
        {
          "output_type": "stream",
          "text": [
            "Saving 25_London.csv to 25_London.csv\n"
          ],
          "name": "stdout"
        }
      ]
    },
    {
      "cell_type": "markdown",
      "metadata": {
        "id": "mEImCuAXKYe1",
        "colab_type": "text"
      },
      "source": [
        "# Coordinates"
      ]
    },
    {
      "cell_type": "code",
      "metadata": {
        "id": "CCIoxZv8Ez-O",
        "colab_type": "code",
        "colab": {}
      },
      "source": [
        "df = pd.read_csv(\"25_London.csv\")\n",
        "df[\"LAT\"] = None\n",
        "df[\"LON\"] = None"
      ],
      "execution_count": 0,
      "outputs": []
    },
    {
      "cell_type": "code",
      "metadata": {
        "id": "8MoiWTdtE5Zt",
        "colab_type": "code",
        "outputId": "54e50346-bd77-4d77-e58c-7cad16a3facd",
        "colab": {
          "base_uri": "https://localhost:8080/",
          "height": 478
        }
      },
      "source": [
        "for i in range(len(df)):\n",
        "  geocode_result = gmaps.geocode(df.iat[i,0])\n",
        "  try:\n",
        "      df.iat[i, df.columns.get_loc(\"LAT\")] = geocode_result[0][\"geometry\"][\"location\"][\"lat\"]\n",
        "      df.iat[i, df.columns.get_loc(\"LON\")] = geocode_result[0][\"geometry\"][\"location\"][\"lng\"]\n",
        "      #df.iat[i, df.columns.get_loc(\"COORDINATES\")] = df.iat[i, df.columns.get_loc(\"LON\")] df.iat[i, df.columns.get_loc(\"LAT\")]\n",
        "\n",
        "  except:\n",
        "      lat = None\n",
        "      lon = None\n",
        "\n",
        "Coordinates = np.zeros((len(df), 3))\n",
        "for i in range(len(df)):\n",
        "  Coordinates[i] = i+1, df.LON[i], df.LAT[i] \n",
        "\n",
        "print(df)"
      ],
      "execution_count": 0,
      "outputs": [
        {
          "output_type": "stream",
          "text": [
            "                                          ADDRESS      TYPE      LAT        LON\n",
            "0                            11 Porlock St London     DEPOT  51.5012 -0.0885404\n",
            "1                            71 Central St London  DELIVERY  51.5266 -0.0967936\n",
            "2                          17 Edway Rd bow London  DELIVERY  51.5303 -0.0352679\n",
            "3                   9 Lockmean Rd Lewisham London  DELIVERY  51.4638 -0.0084496\n",
            "4             93 Albert Embankment Lambeth London  DELIVERY  51.4894  -0.123143\n",
            "5                  138 Druid St Bermondsey London  DELIVERY  51.4983  -0.072756\n",
            "6               88 Denmark Hill Camberwell London  DELIVERY  51.4717 -0.0932589\n",
            "7          10 Abbey Orchard St Westminster London  DELIVERY  51.4976   -0.13272\n",
            "8                  138 Druid St Bermondsey London  DELIVERY  51.4983  -0.072756\n",
            "9                        33 Cumberland St Pimlico  DELIVERY  51.4889  -0.144756\n",
            "10                        33 Clabon Mews Chelsea   DELIVERY   51.495  -0.162017\n",
            "11                         88 Hackford Rd London   DELIVERY  51.4752  -0.115342\n",
            "12               2 Aldenham St Kings Cross London  DELIVERY  51.5322  -0.132994\n",
            "13                         14 MacKenzie Rd London  DELIVERY   51.547  -0.117246\n",
            "14                        518 Old Kent Rd London   DELIVERY  51.4844 -0.0684754\n",
            "15  38 Gloucester Square Hyde Park Estate London   DELIVERY  51.5146  -0.170063\n",
            "16                            58 Carter Ln London  DELIVERY  51.5134  -0.102018\n",
            "17                         29 Bath Terrace London  DELIVERY  51.4968 -0.0964632\n",
            "18                       16 Pritchard's Rd London  DELIVERY  51.5326 -0.0615901\n",
            "19                          23 Clemence St London  DELIVERY  51.5162 -0.0315679\n",
            "20     172 Woolwich Rd Greenwich Peninsula London  DELIVERY  51.4866  0.0202889\n",
            "21                    42 Crystal Palace Rd London  DELIVERY  51.4592 -0.0713713\n",
            "22                122 Portland St Walworth London  DELIVERY  51.4877 -0.0904612\n",
            "23            198 St James's Rd Bermondsey London  DELIVERY  51.4908  -0.065514\n",
            "24              70 Vincent St Westminster London   DELIVERY  51.4931  -0.132561\n"
          ],
          "name": "stdout"
        }
      ]
    },
    {
      "cell_type": "code",
      "metadata": {
        "id": "vWcXLao4xTxo",
        "colab_type": "code",
        "outputId": "113f3230-8dae-4853-e093-43b790ecb22c",
        "colab": {
          "base_uri": "https://localhost:8080/",
          "height": 264
        }
      },
      "source": [
        "# Plotting\n",
        "for i in range(len(df)):\n",
        "  if df.TYPE[i] == 'DEPOT':\n",
        "    plt.scatter(df.LON[i], df.LAT[i], c='r', marker='D')\n",
        "  elif df.TYPE[i] == 'DELIVERY': \n",
        "    plt.scatter(df.LON[i], df.LAT[i], c='cornflowerblue', marker='o', s=40)"
      ],
      "execution_count": 0,
      "outputs": [
        {
          "output_type": "display_data",
          "data": {
            "image/png": "[encoded data removed]",
            "text/plain": [
              "<Figure size 432x288 with 1 Axes>"
            ]
          },
          "metadata": {
            "tags": []
          }
        }
      ]
    },
    {
      "cell_type": "markdown",
      "metadata": {
        "id": "Csh1X7jK-38T",
        "colab_type": "text"
      },
      "source": [
        "# Distance Matrix"
      ]
    },
    {
      "cell_type": "code",
      "metadata": {
        "id": "L_Er2JXf6Pc-",
        "colab_type": "code",
        "colab": {}
      },
      "source": [
        "#Creating Distance Matrix with traffic information (seconds)\n",
        "Distance_Matrix = np.zeros((len(df),len(df)))\n",
        "now = datetime.now()\n",
        "\n",
        "for i in range(len(df)):\n",
        "  for j in range(len(df)):\n",
        "    dist = gmaps.distance_matrix( df.iat[i, df.columns.get_loc(\"ADDRESS\")], df.iat[j, df.columns.get_loc(\"ADDRESS\")],mode=\"driving\", departure_time = now, avoid=\"tolls\")\n",
        "    Distance_Matrix[i,j] = dist[\"rows\"][0][\"elements\"][0][\"duration_in_traffic\"][\"value\"]"
      ],
      "execution_count": 0,
      "outputs": []
    },
    {
      "cell_type": "code",
      "metadata": {
        "id": "mdmmRc_55-uk",
        "colab_type": "code",
        "colab": {}
      },
      "source": [
        "#Creating Distance Matrix with Duration (seconds)\n",
        "Distance_Matrix = np.zeros((len(df),len(df)))\n",
        "\n",
        "for i in range(len(df)):\n",
        "  for j in range(len(df)):\n",
        "    dist = gmaps.distance_matrix( df.iat[i, df.columns.get_loc(\"ADDRESS\")], df.iat[j, df.columns.get_loc(\"ADDRESS\")])\n",
        "    Distance_Matrix[i,j] = dist[\"rows\"][0][\"elements\"][0][\"duration\"][\"value\"]"
      ],
      "execution_count": 0,
      "outputs": []
    },
    {
      "cell_type": "code",
      "metadata": {
        "id": "PB2m63i8A0Ei",
        "colab_type": "code",
        "colab": {}
      },
      "source": [
        "#Creating Distance Matrix with Distance (meters)\n",
        "Distance_Matrix = np.zeros((len(df),len(df)))\n",
        "\n",
        "for i in range(len(df)):\n",
        "  for j in range(len(df)):\n",
        "    dist = gmaps.distance_matrix( df.iat[i, df.columns.get_loc(\"ADDRESS\")], df.iat[j, df.columns.get_loc(\"ADDRESS\")])\n",
        "    Distance_Matrix[i,j] = dist[\"rows\"][0][\"elements\"][0][\"distance\"][\"value\"]"
      ],
      "execution_count": 0,
      "outputs": []
    },
    {
      "cell_type": "markdown",
      "metadata": {
        "id": "liH-dMge263D",
        "colab_type": "text"
      },
      "source": [
        "# Functions"
      ]
    },
    {
      "cell_type": "code",
      "metadata": {
        "id": "jknt5u99zguB",
        "colab_type": "code",
        "colab": {}
      },
      "source": [
        "def First_Tour(leng):\n",
        "  FirstTour = list(range(2, leng+1))\n",
        "  shuffle(FirstTour)\n",
        "  FirstTour = [1] + FirstTour + [1]\n",
        "  return FirstTour\n",
        "\n",
        "def iter_num(temp, rate, mitemp):\n",
        "  number = 0 \n",
        "  while True:\n",
        "    temp *= rate\n",
        "    if temp <= mitemp:break\n",
        "    number+=1\n",
        "  return number\n",
        "\n",
        "def Plotting(tour, coords):\n",
        "  n=len(tour)\n",
        "  longitude=[]\n",
        "  latitude=[]\n",
        "\n",
        "  for i in range(n):\n",
        "    longitude.append(coords[tour[i]-1, 1])\n",
        "    latitude.append(coords[tour[i]-1, 2])\n",
        "\n",
        "  plt.figure()    \n",
        "  plt.plot([longitude[i] for i in range(n)], [latitude[i] for i in range(n)],'-.', color='cornflowerblue')\n",
        "  for i in range(len(df)):\n",
        "    if df.TYPE[i] == 'DEPOT':\n",
        "      plt.scatter(df.LON[i], df.LAT[i], c='r', marker='D')\n",
        "    elif df.TYPE[i] == 'DELIVERY': \n",
        "      plt.scatter(df.LON[i], df.LAT[i], c='cornflowerblue', marker='o', s=40)\n",
        "\n",
        "def FindCurrentCost(CurTour):\n",
        "  temporaryDis=0\n",
        "  for i in range(len(CurTour)-1):    \n",
        "      temporaryDis += Distance_Matrix[CurTour[i]-1,CurTour[i+1]-1]\n",
        "  return temporaryDis \n",
        "\n",
        "def decode(point_str):\n",
        "    # sone coordinate offset is represented by 4 to 5 binary chunks\n",
        "    coord_chunks = [[]]\n",
        "    for char in point_str:\n",
        "        \n",
        "        # convert each character to decimal from ascii\n",
        "        value = ord(char) - 63\n",
        "        \n",
        "        # values that have a chunk following have an extra 1 on the left\n",
        "        split_after = not (value & 0x20)         \n",
        "        value &= 0x1F\n",
        "        \n",
        "        coord_chunks[-1].append(value)\n",
        "        \n",
        "        if split_after:\n",
        "                coord_chunks.append([])\n",
        "        \n",
        "    del coord_chunks[-1]\n",
        "    \n",
        "    coords = []\n",
        "    \n",
        "    for coord_chunk in coord_chunks:\n",
        "        coord = 0\n",
        "        \n",
        "        for i, chunk in enumerate(coord_chunk):                    \n",
        "            coord |= chunk << (i * 5) \n",
        "        \n",
        "        #there is a 1 on the right if the coord is negative\n",
        "        if coord & 0x1:\n",
        "            coord = ~coord #invert\n",
        "        coord >>= 1\n",
        "        coord /= 100000.0\n",
        "                    \n",
        "        coords.append(coord)\n",
        "    \n",
        "    # convert the 1 dimensional list to a 2 dimensional list and offsets to \n",
        "    # actual values\n",
        "    points = []\n",
        "    prev_x = 0\n",
        "    prev_y = 0\n",
        "    for i in range(0, len(coords) - 1, 2):\n",
        "        if coords[i] == 0 and coords[i + 1] == 0:\n",
        "            continue\n",
        "        \n",
        "        prev_x += coords[i + 1]\n",
        "        prev_y += coords[i]\n",
        "        # a round to 6 digits ensures that the floats are the same as when \n",
        "        # they were encoded\n",
        "        points.append((round(prev_x, 6), round(prev_y, 6)))\n",
        "    \n",
        "    return points    "
      ],
      "execution_count": 0,
      "outputs": []
    },
    {
      "cell_type": "markdown",
      "metadata": {
        "id": "HU9PheEvdM-W",
        "colab_type": "text"
      },
      "source": [
        "# New Tour"
      ]
    },
    {
      "cell_type": "code",
      "metadata": {
        "id": "A1qqrXxAdNck",
        "colab_type": "code",
        "colab": {}
      },
      "source": [
        "def NewTourRev(seq):\n",
        "    tmp=seq[0]\n",
        "    del seq[0]\n",
        "    del seq[-1]      \n",
        "\n",
        "    i = randint(0,  len(seq)- 2)\n",
        "    j = randint(i+2, len(seq))\n",
        "\n",
        "    seq[i:j] = reversed(seq[i:j])\n",
        "    \n",
        "    seq.insert(0,tmp)\n",
        "    seq.append(tmp)\n",
        "    \n",
        "    return seq"
      ],
      "execution_count": 0,
      "outputs": []
    },
    {
      "cell_type": "markdown",
      "metadata": {
        "id": "ODU3APyOebzz",
        "colab_type": "text"
      },
      "source": [
        "# Simulated Annealing"
      ]
    },
    {
      "cell_type": "code",
      "metadata": {
        "id": "SSuyxTwheolA",
        "colab_type": "code",
        "outputId": "79a36a7d-5db4-4b82-bdb0-872f4024c650",
        "colab": {
          "base_uri": "https://localhost:8080/",
          "height": 850
        }
      },
      "source": [
        "start = timer()\n",
        "\n",
        "FirstTour = First_Tour(len(df))\n",
        "Shortest_Tour_Cost=9999999999\n",
        "Temperature = 40000\n",
        "alpha = 0.997\n",
        "mintemp = 50\n",
        "innerloop = len(df)*4\n",
        "\n",
        "Shortest_Tour_Graph=[]\n",
        "Cost_Graph=[]\n",
        "Xo = FirstTour[:]\n",
        "Fxo=FindCurrentCost(FirstTour)\n",
        "Temperature_Graph=[]\n",
        "accepted_metropolis = []\n",
        "Df_graph=[]\n",
        "y=[]\n",
        "ran_graph=[]\n",
        "position = 0\n",
        "\n",
        "while True:\n",
        "    for i in range(innerloop):\n",
        "        Xnew=NewTourRev(Xo[:])\n",
        "        Fxnew=FindCurrentCost(Xnew)\n",
        "        accepted_metropolis.append(None) \n",
        "\n",
        "        Df=Fxo-Fxnew\n",
        "        Df_graph.append(Df)\n",
        "        Cost_Graph.append(Fxnew)\n",
        "\n",
        "        if Df > 0:\n",
        "            Xo=Xnew[:]\n",
        "            Fxo = Fxnew    \n",
        "        else:\n",
        "            p = exp(Df/Temperature)\n",
        "            ran=random()\n",
        "            ran_graph.append(ran)\n",
        "            if ran < p:\n",
        "                Xo=Xnew[:]\n",
        "                Fxo = Fxnew\n",
        "            accepted_metropolis[-1]=p  \n",
        " \n",
        "        if Fxo < Shortest_Tour_Cost:\n",
        "            Shortest_Tour_Cost=Fxo\n",
        "            Shortest_Tour= Xo[:]\n",
        "\n",
        "        y.append(position)\n",
        "        position +=1\n",
        "\n",
        "        Shortest_Tour_Graph.append(Shortest_Tour_Cost)    \n",
        "        #Cost_Graph.append(Fxo)\n",
        "        Temperature_Graph.append(Temperature)  \n",
        "    Temperature*= alpha\n",
        "    if Temperature <= mintemp:break  \n",
        "\n",
        "end = timer() \n",
        "\n",
        "    \n",
        "plt.figure()\n",
        "plt.plot(Cost_Graph)\n",
        "plt.plot(Shortest_Tour_Graph,'r')\n",
        "\n",
        "plt.figure()\n",
        "plt.scatter(y, accepted_metropolis,s=0.6)\n",
        "\n",
        "print(\"Shortest Tour:\",Shortest_Tour)\n",
        "print(\"Shortest Tour cost:\",\"{0:.3f}\".format(round(Shortest_Tour_Cost,3)))\n",
        "print(\"Calculation Time:\",\"{0:.4f}\".format(round((end - start),4)), \"sec\")\n",
        "Plotting(Shortest_Tour, Coordinates)\n",
        "plt.figure()\n",
        "plt.plot(Shortest_Tour_Graph,'r')"
      ],
      "execution_count": 0,
      "outputs": [
        {
          "output_type": "stream",
          "text": [
            "3.4220 sec\n",
            "67209.0\n",
            "222500\n"
          ],
          "name": "stdout"
        },
        {
          "output_type": "execute_result",
          "data": {
            "text/plain": [
              "<matplotlib.collections.PathCollection at 0x7f61820335f8>"
            ]
          },
          "metadata": {
            "tags": []
          },
          "execution_count": 14
        },
        {
          "output_type": "display_data",
          "data": {
            "text/plain": [
              "<Figure size 432x288 with 0 Axes>"
            ]
          },
          "metadata": {
            "tags": []
          }
        },
        {
          "output_type": "display_data",
          "data": {
            "image/png": "[encoded data removed]",
            "text/plain": [
              "<Figure size 432x288 with 1 Axes>"
            ]
          },
          "metadata": {
            "tags": []
          }
        },
        {
          "output_type": "display_data",
          "data": {
            "image/png": "[encoded data removed]",
            "text/plain": [
              "<Figure size 432x288 with 1 Axes>"
            ]
          },
          "metadata": {
            "tags": []
          }
        },
        {
          "output_type": "display_data",
          "data": {
            "image/png": "[encoded data removed]",
            "text/plain": [
              "<Figure size 432x288 with 1 Axes>"
            ]
          },
          "metadata": {
            "tags": []
          }
        }
      ]
    },
    {
      "cell_type": "code",
      "metadata": {
        "id": "yiZgjwyAEy3n",
        "colab_type": "code",
        "outputId": "3e20c401-72cc-4a0f-82bd-230642c80697",
        "colab": {
          "base_uri": "https://localhost:8080/",
          "height": 459
        }
      },
      "source": [
        "# printing the route plan by order\n",
        "for i in ShortestTour:\n",
        "  print(df.ADDRESS[i-1])"
      ],
      "execution_count": 0,
      "outputs": [
        {
          "output_type": "stream",
          "text": [
            "11 Porlock St London\n",
            " 29 Bath Terrace London\n",
            "122 Portland St Walworth London\n",
            "42 Crystal Palace Rd London\n",
            "88 Denmark Hill Camberwell London\n",
            "88 Hackford Rd London \n",
            "93 Albert Embankment Lambeth London\n",
            "10 Abbey Orchard St Westminster London\n",
            "70 Vincent St Westminster London \n",
            "33 Cumberland St Pimlico\n",
            " 33 Clabon Mews Chelsea \n",
            "38 Gloucester Square Hyde Park Estate London \n",
            "2 Aldenham St Kings Cross London\n",
            "14 MacKenzie Rd London\n",
            "58 Carter Ln London\n",
            "71 Central St London\n",
            "16 Pritchard's Rd London\n",
            "17 Edway Rd bow London\n",
            "23 Clemence St London\n",
            "172 Woolwich Rd Greenwich Peninsula London\n",
            "9 Lockmean Rd Lewisham London\n",
            "518 Old Kent Rd London \n",
            "198 St James's Rd Bermondsey London\n",
            "138 Druid St Bermondsey London\n",
            "138 Druid St Bermondsey London\n",
            "11 Porlock St London\n"
          ],
          "name": "stdout"
        }
      ]
    },
    {
      "cell_type": "markdown",
      "metadata": {
        "id": "xOhSqTKYg9x9",
        "colab_type": "text"
      },
      "source": [
        "# Plotting on Google Maps"
      ]
    },
    {
      "cell_type": "code",
      "metadata": {
        "id": "sqpVhmyohCz_",
        "colab_type": "code",
        "colab": {}
      },
      "source": [
        "# Athens Coordinates\n",
        "#gmap = gmplot.GoogleMapPlotter(37.983616, 23.728616, 11)\n",
        "\n",
        "# London Coordinates\n",
        "gmap = gmplot.GoogleMapPlotter(51.509865, -0.118092, 12)\n",
        "\n",
        "# or else add your prefered coordinates of the centered point \n",
        "\n",
        "gmap.apikey = 'your API key'\n",
        "\n",
        "# API Request\n",
        "now = datetime.now()\n",
        "\n",
        "latitudes = [df.LAT[0]]\n",
        "longitudes = [df.LON[0]]\n",
        "\n",
        "for i in range(len(ShortestTour)-1):\n",
        "  directions_result = gmaps.directions(df.ADDRESS[ShortestTour[i]-1], df.ADDRESS[ShortestTour[i+1]-1], mode=\"driving\", departure_time = now, avoid=\"tolls\")\n",
        "  \n",
        "  for j in range(len(directions_result[0][\"legs\"][0][\"steps\"])-1):\n",
        "    coors = decode(directions_result[0][\"legs\"][0][\"steps\"][j][\"polyline\"][\"points\"])\n",
        "    for n in range(len(coors)):\n",
        "      latitudes.append(coors[n][1])\n",
        "      longitudes.append(coors[n][0])\n",
        "\n",
        "\n",
        "latitudes.append(df.LAT[0])\n",
        "longitudes.append(df.LON[0])    \n",
        "gmap.plot(latitudes, longitudes, 'cornflowerblue', edge_width=10)\n",
        "\n",
        "# plot different coloros about the type\n",
        "# purple for DEPOT & green for DELIVERY\n",
        "\n",
        "for i in range(len(df)):\n",
        "  if df.TYPE[i] == 'DEPOT':\n",
        "    gmap.scatter(tuple([df.LAT[i]]), tuple([df.LON[i]]),'#ff00ff',size=40, marker=False)\n",
        "  elif df.TYPE[i] == 'DELIVERY':\n",
        "    gmap.scatter(tuple([df.LAT[i]]), tuple([df.LON[i]]),'#00ff00',size=40, marker=False)\n",
        "\n",
        "gmap.draw(\"London_map.html\")"
      ],
      "execution_count": 0,
      "outputs": []
    },
    {
      "cell_type": "code",
      "metadata": {
        "id": "W8vHL3qKikWJ",
        "colab_type": "code",
        "colab": {}
      },
      "source": [
        "files.download(\"London_map.html\") "
      ],
      "execution_count": 0,
      "outputs": []
    }
  ]
}