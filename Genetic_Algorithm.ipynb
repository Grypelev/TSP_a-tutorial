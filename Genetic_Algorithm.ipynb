{
  "nbformat": 4,
  "nbformat_minor": 0,
  "metadata": {
    "colab": {
      "name": "Genetic_Algorithm.ipynb",
      "provenance": [],
      "toc_visible": true
    },
    "kernelspec": {
      "name": "python3",
      "display_name": "Python 3"
    }
  },
  "cells": [
    {
      "cell_type": "markdown",
      "metadata": {
        "id": "C7S5xnm5uCfw",
        "colab_type": "text"
      },
      "source": [
        "# Initialization"
      ]
    },
    {
      "cell_type": "code",
      "metadata": {
        "id": "50akl-acadVB",
        "colab_type": "code",
        "colab": {}
      },
      "source": [
        "from statistics import mean\n",
        "from timeit import default_timer as timer\n",
        "from math import sqrt, exp\n",
        "from random import shuffle, random, randint\n",
        "from google.colab import files\n",
        "import copy\n",
        "import matplotlib.pyplot as plt\n",
        "import numpy as np\n",
        "import pandas as pd"
      ],
      "execution_count": 0,
      "outputs": []
    },
    {
      "cell_type": "code",
      "metadata": {
        "id": "8HxEjZJ-t93K",
        "colab_type": "code",
        "outputId": "664155ab-c1a7-4aeb-97bc-6b6c0be74738",
        "colab": {
          "resources": {
            "http://localhost:8080/nbextensions/google.colab/files.js": {
              "data": "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",
              "ok": true,
              "headers": [
                [
                  "content-type",
                  "application/javascript"
                ]
              ],
              "status": 200,
              "status_text": ""
            }
          },
          "base_uri": "https://localhost:8080/",
          "height": 74
        }
      },
      "source": [
        "# Download the \"Coors_140.csv\" from the GitHub repository and upload it\n",
        "uploaded = files.upload()"
      ],
      "execution_count": 0,
      "outputs": [
        {
          "output_type": "display_data",
          "data": {
            "text/html": [
              "\n",
              "     <input type=\"file\" id=\"files-75f00d11-81e8-4e54-a22b-b7004c8a610d\" name=\"files[]\" multiple disabled />\n",
              "     <output id=\"result-75f00d11-81e8-4e54-a22b-b7004c8a610d\">\n",
              "      Upload widget is only available when the cell has been executed in the\n",
              "      current browser session. Please rerun this cell to enable.\n",
              "      </output>\n",
              "      <script src=\"/nbextensions/google.colab/files.js\"></script> "
            ],
            "text/plain": [
              "<IPython.core.display.HTML object>"
            ]
          },
          "metadata": {
            "tags": []
          }
        },
        {
          "output_type": "stream",
          "text": [
            "Saving Coors_140.csv to Coors_140.csv\n"
          ],
          "name": "stdout"
        }
      ]
    },
    {
      "cell_type": "code",
      "metadata": {
        "id": "0vgEqhZC4Sgj",
        "colab_type": "code",
        "colab": {}
      },
      "source": [
        "coors = pd.read_csv(\"Coors_140.csv\") \n",
        "coords = coors.to_numpy()\n",
        "coords = np.delete(coords, 0,1)\n",
        "amount_of_coordinates = 40\n",
        "Coordinates = coords[:amount_of_coordinates]\n",
        "\n",
        "#Plotting\n",
        "plt.scatter(Coordinates[0][1], Coordinates[0][2], c='r', marker='D')\n",
        "plt.scatter(Coordinates[1:,1], Coordinates[1:,2])"
      ],
      "execution_count": 0,
      "outputs": []
    },
    {
      "cell_type": "code",
      "metadata": {
        "id": "9JPNNtE5pGXr",
        "colab_type": "code",
        "colab": {}
      },
      "source": [
        "# Or else, if you prefer to generate the coordinates randomly, follow this step.\n",
        "\n",
        "nodes = 40\n",
        "Coordinates = np.ones((nodes, 3))\n",
        "Coordinates[0] = 1, 0.5, 0.5\n",
        "\n",
        "for i in range(1, nodes):\n",
        "  Coordinates[i] = int(i+1), random(), random()\n",
        "\n",
        "#Plotting\n",
        "plt.scatter(Coordinates[0][1], Coordinates[0][2], c='r', marker='D')\n",
        "plt.scatter(Coordinates[1:,1], Coordinates[1:,2])"
      ],
      "execution_count": 0,
      "outputs": []
    },
    {
      "cell_type": "markdown",
      "metadata": {
        "id": "I5BuBlE6bVQa",
        "colab_type": "text"
      },
      "source": [
        "# Distance Matrix"
      ]
    },
    {
      "cell_type": "code",
      "metadata": {
        "id": "pyrj0QvMbVu_",
        "colab_type": "code",
        "colab": {}
      },
      "source": [
        "def Distance(x1, y1, x2, y2):\n",
        "    return sqrt((x1-x2)**2+(y1-y2)**2)\n",
        "\n",
        "#Creating Distance Matrix\n",
        "length = len(Coordinates)\n",
        "Distance_Matrix = np.zeros((length, length))\n",
        "for i in range(length):\n",
        "  for j in range(length):\n",
        "    Distance_Matrix[i][j] = Distance(Coordinates[i][1],  Coordinates[i][2], Coordinates[j][1], Coordinates[j][2])"
      ],
      "execution_count": 0,
      "outputs": []
    },
    {
      "cell_type": "markdown",
      "metadata": {
        "id": "nVf1Tt2vuTWQ",
        "colab_type": "text"
      },
      "source": [
        "# Functions\n"
      ]
    },
    {
      "cell_type": "code",
      "metadata": {
        "id": "jKe9o7yftM2K",
        "colab_type": "code",
        "colab": {}
      },
      "source": [
        "def First_Tour():\n",
        "  FirstTour = list(range(2, length+1))\n",
        "  shuffle(FirstTour)\n",
        "  FirstTour = [1] + FirstTour + [1]\n",
        "  return FirstTour\n",
        "\n",
        "def NewRandom(tour):\n",
        "  tmp=tour[0]\n",
        "  del tour[0], tour[-1]\n",
        "  \n",
        "  shuffle(tour)\n",
        "  tour = [tmp] + tour + [tmp]\n",
        "  return tour\n",
        "\n",
        "def Plotting(tour, coords):\n",
        "    n=len(tour)\n",
        "    longitude=[]\n",
        "    latitude=[]\n",
        "    \n",
        "    for i in range(n):\n",
        "            longitude.append(coords[tour[i]-1, 1])\n",
        "            latitude.append(coords[tour[i]-1, 2])\n",
        "    plt.figure()    \n",
        "    plt.plot([longitude[i] for i in range(n)],\n",
        "              [latitude[i] for i in range(n)],'-.', color='cornflowerblue')\n",
        "    plt.scatter(Coordinates[0][1], Coordinates[0][2], c = 'r', marker='D')\n",
        "    plt.scatter(Coordinates[1:,1], Coordinates[1:,2])\n",
        "\n",
        "def FindCurrentCost(CurTour):\n",
        "  temporaryDis=0\n",
        "  for i in range(len(CurTour)-1):    \n",
        "    temporaryDis += Distance_Matrix[CurTour[i]-1,CurTour[i+1]-1]\n",
        "  return temporaryDis \n",
        "\n",
        "def FirstParents(n,startingtour):\n",
        "  lst=[]    \n",
        "  for i in range(n):\n",
        "    tmp=startingtour[0]\n",
        "    del startingtour[0], startingtour[-1]\n",
        "    shuffle(startingtour)\n",
        "    startingtour = [tmp] + startingtour + [tmp]\n",
        "    lst.append(copy.copy(startingtour))\n",
        "  return lst\n",
        "\n",
        "def CostofList(lis):\n",
        "  costs=[]\n",
        "  for i in range(len(lis)):\n",
        "    a=FindCurrentCost(lis[i])      \n",
        "    costs.append(a)\n",
        "  return costs\n",
        "  \n",
        "def pickone(roullete):\n",
        "    num=random()\n",
        "    for i in range(Population):\n",
        "        if num >= roullete[i,0] and num <= roullete[i,1]:\n",
        "            idx = i\n",
        "            break\n",
        "    return idx  "
      ],
      "execution_count": 0,
      "outputs": []
    },
    {
      "cell_type": "markdown",
      "metadata": {
        "id": "OJLI-Wml0x3q",
        "colab_type": "text"
      },
      "source": [
        "# Selection\n"
      ]
    },
    {
      "cell_type": "code",
      "metadata": {
        "id": "6eL0XQ4VyQuq",
        "colab_type": "code",
        "colab": {}
      },
      "source": [
        "def Elitism(lst, lstcost, percentage):\n",
        "  elite = []\n",
        "  num = (len(lst)*(percentage))//100\n",
        "\n",
        "  for i in range(num):\n",
        "    idx=lstcost.index(min(lstcost))\n",
        "    elite.append(lst[idx])\n",
        "    lstcost[idx]=99999999\n",
        "\n",
        "  return elite\n",
        "\n",
        "def RoulleteWheelSelectionArray(costs):\n",
        "    n = len(costs)\n",
        "    minim=min(costs)\n",
        "    maxim=max(costs)\n",
        "    reverse=np.zeros(n)\n",
        "    normal=np.zeros(n)\n",
        "    prop_sel=np.zeros((n,3))\n",
        "    \n",
        "    for i in range(n):\n",
        "        reverse[i]=(maxim-costs[i])+minim\n",
        "    summ=sum(reverse) \n",
        "    prop_sel[0,0]=0      \n",
        "    for i in range(n-1):\n",
        "        normal[i]= reverse[i]/summ\n",
        "        prop_sel[i,1] = normal[i] + prop_sel[i,0]\n",
        "        prop_sel[i,2] = normal[i]\n",
        "        prop_sel[i+1,0] = prop_sel[i,1]\n",
        "       \n",
        "    normal[n-1]= reverse[n-1]/summ    \n",
        "    prop_sel[n-1,1] = normal[n-1] + prop_sel[n-1,0]    \n",
        "    prop_sel[n-1,2] = normal[n-1] \n",
        "    \n",
        "    return prop_sel"
      ],
      "execution_count": 0,
      "outputs": []
    },
    {
      "cell_type": "markdown",
      "metadata": {
        "id": "k-M_Ql2c00ea",
        "colab_type": "text"
      },
      "source": [
        "# Mutation\n"
      ]
    },
    {
      "cell_type": "code",
      "metadata": {
        "id": "509Qd3fXv1i2",
        "colab_type": "code",
        "colab": {}
      },
      "source": [
        "def Mut_Inversion(parent):\n",
        "    tmp=parent[0]\n",
        "    del parent[0],parent[-1]      \n",
        "\n",
        "    i = randint(0,  len(parent)- 2)\n",
        "    j = randint(i+2, len(parent))\n",
        "\n",
        "    parent[i:j] = reversed(parent[i:j])\n",
        "    \n",
        "    parent.insert(0,tmp)\n",
        "    parent.append(tmp)\n",
        "    \n",
        "    return parent"
      ],
      "execution_count": 0,
      "outputs": []
    },
    {
      "cell_type": "markdown",
      "metadata": {
        "id": "_Zp_Qave033K",
        "colab_type": "text"
      },
      "source": [
        "# Crossover\n"
      ]
    },
    {
      "cell_type": "code",
      "metadata": {
        "id": "Xlg1rSg2FfOM",
        "colab_type": "code",
        "colab": {}
      },
      "source": [
        "def Crossover_PMX(par1,par2):\n",
        "  del par1[0],par2[0],par1[-1],par2[-1]\n",
        "  i = randint(0,  len(par1)- 3)\n",
        "  j = randint(i+3, len(par1))\n",
        "\n",
        "  tmp1 = par1[i:j]\n",
        "  tmp2 = par2[i:j]\n",
        "\n",
        "  off2 = [None] * len(par1)\n",
        "  off1 = [None] * len(par1)\n",
        "\n",
        "  off1[i:j]=par2[i:j]\n",
        "  off2[i:j]=par1[i:j]  \n",
        "\n",
        "  for k in range(len(par1)):\n",
        "    if off2[k] == None:\n",
        "      if  not par2[k] in off2:\n",
        "        off2[k] = par2[k]\n",
        "      else:\n",
        "        for x in tmp2:\n",
        "          if not x in off2:\n",
        "            off2[k] = x\n",
        "          else:continue\n",
        "    else:continue\n",
        "  off2 = [1] + off2 + [1]\n",
        "\n",
        "  for k in range(len(par1)):\n",
        "    if off1[k] == None:\n",
        "      if  not par1[k] in off1:\n",
        "        off1[k] = par1[k]\n",
        "      else:\n",
        "        for x in tmp1:\n",
        "          if not x in off1:\n",
        "            off1[k] = x\n",
        "          else:continue\n",
        "    else:continue\n",
        "  off1 = [1] + off1 + [1]\n",
        "\n",
        "  return off1,off2"
      ],
      "execution_count": 0,
      "outputs": []
    },
    {
      "cell_type": "markdown",
      "metadata": {
        "id": "ty3q3Q6919nn",
        "colab_type": "text"
      },
      "source": [
        "# Genetic Algorithm"
      ]
    },
    {
      "cell_type": "code",
      "metadata": {
        "id": "CTbwVcMn_6RS",
        "colab_type": "code",
        "colab": {}
      },
      "source": [
        "Population = 150\n",
        "Generations = 800\n",
        "FirstTour=First_Tour()\n",
        "Parents=FirstParents(Population,FirstTour[:])\n",
        "Parents_Cost_List=CostofList(Parents[:])\n",
        "elitism = 5 # integer percentage of 100\n",
        "\n",
        "# Propabilitties\n",
        "Crossover_Propabillity = 75\n",
        "Mutation_Propabillity = 24\n",
        "New_Random_Propabillity = 100 - Crossover_Propabillity - Mutation_Propabillity\n",
        "\n",
        "Shortest_Tour_Graph = []\n",
        "\n",
        "start = timer()\n",
        "for rnd in range(Generations):\n",
        "  Proporsional_Selection_Array = RoulleteWheelSelectionArray(Parents_Cost_List)\n",
        "  Children = Elitism(Parents, Parents_Cost_List, elitism)\n",
        "  while True:\n",
        "    randomnum=randint(1,100)\n",
        "\n",
        "    if randomnum <= New_Random_Propabillity:\n",
        "      Children.append(NewRandom(FirstTour[:]))\n",
        "      \n",
        "    elif randomnum > New_Random_Propabillity and randomnum <= (Mutation_Propabillity + New_Random_Propabillity) :\n",
        "      idx=pickone(Proporsional_Selection_Array)\n",
        "      chromosome = Parents[idx]\n",
        "      Children.append(Mut_Inversion(chromosome[:]))\n",
        "\n",
        "    elif randomnum > (Mutation_Propabillity + New_Random_Propabillity):\n",
        "      idx1=pickone(Proporsional_Selection_Array)\n",
        "      while True:\n",
        "        idx2=pickone(Proporsional_Selection_Array)\n",
        "        if idx2 != idx1:break\n",
        "      kid1, kid2 = Crossover_PMX(Parents[idx1][:], Parents[idx2][:])\n",
        "      Children.append(kid1)\n",
        "      if len(Children) == Population:break\n",
        "      Children.append(kid2)\n",
        "\n",
        "    if len(Children) == Population:break\n",
        "\n",
        "  Children_Cost_List = CostofList(Children)\n",
        "  \n",
        "  # Children -> Parents\n",
        "  Parents = Children[:]\n",
        "  Parents_Cost_List = Children_Cost_List[:]\n",
        "\n",
        "  # Ploting\n",
        "  Shortest_Tour_Graph.append(min(Children_Cost_List)) \n",
        "\n",
        "Shortest_Tour = Parents[best]\n",
        "Shortest_Tour_Cost = FindCurrentCost(Shortest_Tour)\n",
        "end = timer() \n",
        "\n",
        "print(\"Shortest Tour:\",Shortest_Tour)\n",
        "print(\"Shortest Tour cost:\",\"{0:.3f}\".format(round(Shortest_Tour_Cost,3)))\n",
        "print(\"Calculation Time:\",\"{0:.4f}\".format(round((end - start),4)), \"sec\")\n",
        "Plotting(Shortest_Tour, Coordinates)\n",
        "plt.figure()\n",
        "plt.plot(Shortest_Tour_Graph,'r')"
      ],
      "execution_count": 0,
      "outputs": []
    }
  ]
}