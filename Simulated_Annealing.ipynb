{
  "nbformat": 4,
  "nbformat_minor": 0,
  "metadata": {
    "colab": {
      "name": "Simulated_Annealing.ipynb",
      "provenance": [],
      "collapsed_sections": [],
      "toc_visible": true
    },
    "kernelspec": {
      "name": "python3",
      "display_name": "Python 3"
    }
  },
  "cells": [
    {
      "cell_type": "markdown",
      "metadata": {
        "id": "roxCCzX6cQ-e",
        "colab_type": "text"
      },
      "source": [
        "# Initialization "
      ]
    },
    {
      "cell_type": "code",
      "metadata": {
        "id": "hzwmqW8VTDCv",
        "colab_type": "code",
        "colab": {}
      },
      "source": [
        "import matplotlib.pyplot as plt\n",
        "import numpy as np\n",
        "import pandas as pd\n",
        "from statistics import mean\n",
        "from timeit import default_timer as timer\n",
        "from math import sqrt, exp\n",
        "from random import shuffle, random, randint\n",
        "from google.colab import files"
      ],
      "execution_count": 0,
      "outputs": []
    },
    {
      "cell_type": "code",
      "metadata": {
        "id": "rp4Rkbcba8Ga",
        "colab_type": "code",
        "colab": {}
      },
      "source": [
        "# Download the \"Coors_140.csv\" from the GitHub repository and upload it\n",
        "uploaded = files.upload()"
      ],
      "execution_count": 0,
      "outputs": []
    },
    {
      "cell_type": "code",
      "metadata": {
        "id": "0vgEqhZC4Sgj",
        "colab_type": "code",
        "colab": {}
      },
      "source": [
        "coors = pd.read_csv(\"Coors_140.csv\") \n",
        "coords = coors.to_numpy()\n",
        "coords = np.delete(coords, 0,1)\n",
        "amount_of_coordinates = 40\n",
        "Coordinates = coords[:amount_of_coordinates]\n",
        "\n",
        "#Plotting\n",
        "plt.scatter(Coordinates[0][1], Coordinates[0][2], c='r', marker='D')\n",
        "plt.scatter(Coordinates[1:,1], Coordinates[1:,2])"
      ],
      "execution_count": 0,
      "outputs": []
    },
    {
      "cell_type": "code",
      "metadata": {
        "id": "wkT5C_AGk52p",
        "colab_type": "code",
        "colab": {}
      },
      "source": [
        "# If you prefer to generate the coordinates randomly, follow this step.\n",
        "\n",
        "nodes = 40\n",
        "Coordinates = np.ones((nodes, 3))\n",
        "Coordinates[0] = 1, 0.5, 0.5\n",
        "\n",
        "for i in range(1, nodes):\n",
        "  Coordinates[i] = int(i+1), random(), random()\n",
        "\n",
        "#Plotting\n",
        "plt.scatter(Coordinates[0][1], Coordinates[0][2], c='r', marker='D')\n",
        "plt.scatter(Coordinates[1:,1], Coordinates[1:,2])"
      ],
      "execution_count": 0,
      "outputs": []
    },
    {
      "cell_type": "markdown",
      "metadata": {
        "id": "I5BuBlE6bVQa",
        "colab_type": "text"
      },
      "source": [
        "# Distance Matrix"
      ]
    },
    {
      "cell_type": "code",
      "metadata": {
        "id": "pyrj0QvMbVu_",
        "colab_type": "code",
        "colab": {}
      },
      "source": [
        "def Distance(x1, y1, x2, y2):\n",
        "    return sqrt((x1-x2)**2+(y1-y2)**2)\n",
        "\n",
        "#Creating Distance Matrix\n",
        "length = len(Coordinates)\n",
        "Distance_Matrix = np.zeros((length, length))\n",
        "for i in range(length):\n",
        "  for j in range(length):\n",
        "    Distance_Matrix[i][j] = Distance(Coordinates[i][1],  Coordinates[i][2], Coordinates[j][1], Coordinates[j][2])"
      ],
      "execution_count": 0,
      "outputs": []
    },
    {
      "cell_type": "markdown",
      "metadata": {
        "id": "liH-dMge263D",
        "colab_type": "text"
      },
      "source": [
        "# Functions"
      ]
    },
    {
      "cell_type": "code",
      "metadata": {
        "id": "jknt5u99zguB",
        "colab_type": "code",
        "colab": {}
      },
      "source": [
        "def First_Tour():\n",
        "  FirstTour = list(range(2, length+1))\n",
        "  shuffle(FirstTour)\n",
        "  FirstTour = [1] + FirstTour + [1]\n",
        "  return FirstTour"
      ],
      "execution_count": 0,
      "outputs": []
    },
    {
      "cell_type": "code",
      "metadata": {
        "id": "YDMTjyXCzrpB",
        "colab_type": "code",
        "colab": {}
      },
      "source": [
        "def iter_num(temp, rate, mitemp):\n",
        "  number = 0 \n",
        "  while True:\n",
        "    temp *= rate\n",
        "    if temp <= mitemp:break\n",
        "    number+=1\n",
        "  return number"
      ],
      "execution_count": 0,
      "outputs": []
    },
    {
      "cell_type": "code",
      "metadata": {
        "id": "OT8H6LqPzuo0",
        "colab_type": "code",
        "colab": {}
      },
      "source": [
        "\n",
        "def Plotting(tour, coords):\n",
        "    n=len(tour)\n",
        "    longitude=[]\n",
        "    latitude=[]\n",
        "    \n",
        "    for i in range(n):\n",
        "            longitude.append(coords[tour[i]-1, 1])\n",
        "            latitude.append(coords[tour[i]-1, 2])\n",
        "    plt.figure()    \n",
        "    plt.plot([longitude[i] for i in range(n)],\n",
        "              [latitude[i] for i in range(n)],'-.', color='cornflowerblue')\n",
        "    plt.scatter(Coordinates[0][1], Coordinates[0][2], c = 'r', marker='D')\n",
        "    plt.scatter(Coordinates[1:,1], Coordinates[1:,2])"
      ],
      "execution_count": 0,
      "outputs": []
    },
    {
      "cell_type": "code",
      "metadata": {
        "id": "y4PJMLP30G-d",
        "colab_type": "code",
        "colab": {}
      },
      "source": [
        "def FindCurrentCost(CurTour):\n",
        "    temporaryDis=0\n",
        "    for i in range(len(CurTour)-1):    \n",
        "       temporaryDis += Distance_Matrix[CurTour[i]-1,CurTour[i+1]-1]\n",
        "    return temporaryDis "
      ],
      "execution_count": 0,
      "outputs": []
    },
    {
      "cell_type": "markdown",
      "metadata": {
        "id": "HU9PheEvdM-W",
        "colab_type": "text"
      },
      "source": [
        "# New Tour"
      ]
    },
    {
      "cell_type": "code",
      "metadata": {
        "id": "A1qqrXxAdNck",
        "colab_type": "code",
        "colab": {}
      },
      "source": [
        "def NewTourRev(seq):\n",
        "    tmp=seq[0]\n",
        "    del seq[0],seq[-1]\n",
        "\n",
        "    i = randint(0,  len(seq)- 2)\n",
        "    j = randint(i+2, len(seq))\n",
        "\n",
        "    seq[i:j] = reversed(seq[i:j])\n",
        "    \n",
        "    seq = [tmp] + seq + [tmp]\n",
        "    \n",
        "    return seq"
      ],
      "execution_count": 0,
      "outputs": []
    },
    {
      "cell_type": "markdown",
      "metadata": {
        "id": "ODU3APyOebzz",
        "colab_type": "text"
      },
      "source": [
        "# Simulated Annealing"
      ]
    },
    {
      "cell_type": "code",
      "metadata": {
        "id": "SSuyxTwheolA",
        "colab_type": "code",
        "colab": {}
      },
      "source": [
        "FirstTour = First_Tour()\n",
        "Shortest_Tour_Cost=99999\n",
        "Temperature = 20\n",
        "alpha = 0.9975\n",
        "mintemp = 0.001\n",
        "innerloop = len(Coordinates)*4\n",
        "\n",
        "Shortest_Tour_Graph=[]\n",
        "Xo = FirstTour[:]\n",
        "Fxo=FindCurrentCost(FirstTour)\n",
        "start = timer()\n",
        "\n",
        "while True:\n",
        "    for i in range(innerloop):\n",
        "        Xnew=NewTourRev(Xo[:])\n",
        "        Fxnew=FindCurrentCost(Xnew)\n",
        "        Df=Fxo-Fxnew\n",
        "        if Df > 0:\n",
        "            Xo=Xnew[:]\n",
        "            Fxo = Fxnew    \n",
        "        else:\n",
        "            p = exp(Df/Temperature)\n",
        "            ran=random()             \n",
        "            if ran < p:\n",
        "                Xo=Xnew[:]\n",
        "                Fxo = Fxnew\n",
        " \n",
        "        if Fxo < Shortest_Tour_Cost:\n",
        "            Shortest_Tour_Cost=Fxo\n",
        "            Shortest_Tour= Xo[:]\n",
        "\n",
        "        Shortest_Tour_Graph.append(Shortest_Tour_Cost) \n",
        "    Temperature*= alpha\n",
        "    if Temperature <= mintemp:break  \n",
        "\n",
        "end = timer() \n",
        "\n",
        "print(\"Shortest Tour:\",Shortest_Tour)\n",
        "print(\"Shortest Tour cost:\",\"{0:.3f}\".format(round(Shortest_Tour_Cost,3)))\n",
        "print(\"Calculation Time:\",\"{0:.4f}\".format(round((end - start),4)), \"sec\")\n",
        "Plotting(Shortest_Tour, Coordinates)\n",
        "plt.figure()\n",
        "plt.plot(Shortest_Tour_Graph,'r')"
      ],
      "execution_count": 0,
      "outputs": []
    }
  ]
}