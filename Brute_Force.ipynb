{
  "nbformat": 4,
  "nbformat_minor": 0,
  "metadata": {
    "colab": {
      "name": "Brute_Force.ipynb",
      "provenance": [],
      "toc_visible": true,
      "machine_shape": "hm"
    },
    "kernelspec": {
      "name": "python3",
      "display_name": "Python 3"
    }
  },
  "cells": [
    {
      "cell_type": "markdown",
      "metadata": {
        "id": "PKtsMTSRZjDE",
        "colab_type": "text"
      },
      "source": [
        "# Initialization\n"
      ]
    },
    {
      "cell_type": "code",
      "metadata": {
        "id": "Ff5HWATcQ2pS",
        "colab_type": "code",
        "colab": {}
      },
      "source": [
        "from itertools import permutations\n",
        "from timeit import default_timer as timer\n",
        "from random import random\n",
        "from math import sqrt\n",
        "from google.colab import files\n",
        "import numpy as np\n",
        "import matplotlib.pyplot as plt\n",
        "import pandas as pd"
      ],
      "execution_count": 0,
      "outputs": []
    },
    {
      "cell_type": "code",
      "metadata": {
        "id": "PNPKo0VST7iS",
        "colab_type": "code",
        "colab": {}
      },
      "source": [
        "# Download the \"Coors_140.csv\" from the GitHub repository and upload it\n",
        "uploaded = files.upload()"
      ],
      "execution_count": 0,
      "outputs": []
    },
    {
      "cell_type": "code",
      "metadata": {
        "id": "YBuo3HKGemPa",
        "colab_type": "code",
        "colab": {}
      },
      "source": [
        "coors = pd.read_csv(\"Coors_140.csv\") \n",
        "coords = coors.to_numpy()\n",
        "coords = np.delete(coords, 0,1)\n",
        "amount_of_coordinates = 10  # maximum 12 \n",
        "Coordinates = coords[:amount_of_coordinates]\n",
        "\n",
        "#Plotting\n",
        "plt.scatter(Coordinates[0][1], Coordinates[0][2], c='r', marker='D')\n",
        "plt.scatter(Coordinates[1:,1], Coordinates[1:,2])"
      ],
      "execution_count": 0,
      "outputs": []
    },
    {
      "cell_type": "code",
      "metadata": {
        "id": "HU67XXEvekhy",
        "colab_type": "code",
        "colab": {}
      },
      "source": [
        "# If you prefer to generate the coordinates randomly, follow this step.\n",
        "\n",
        "nodes = 12   # maximum 12 \n",
        "Coordinates = np.ones((nodes, 3))\n",
        "Coordinates[0] = 1, 0.5, 0.5\n",
        "\n",
        "for i in range(1, nodes):\n",
        "  Coordinates[i] = int(i+1), random(), random()\n",
        "\n",
        "#Plotting\n",
        "plt.scatter(Coordinates[0][1], Coordinates[0][2], c='r', marker='D')\n",
        "plt.scatter(Coordinates[1:,1], Coordinates[1:,2])"
      ],
      "execution_count": 0,
      "outputs": []
    },
    {
      "cell_type": "markdown",
      "metadata": {
        "id": "7syHZGZHZofq",
        "colab_type": "text"
      },
      "source": [
        "# Distance Matrix"
      ]
    },
    {
      "cell_type": "code",
      "metadata": {
        "id": "wjbnf6G1Uf5k",
        "colab_type": "code",
        "colab": {}
      },
      "source": [
        "def Distance(x1, y1, x2, y2):\n",
        "    return sqrt((x1-x2)**2+(y1-y2)**2)\n",
        "\n",
        "length = len(Coordinates)\n",
        "Distance_Matrix = np.zeros((length, length))\n",
        "for i in range(length):\n",
        "  for j in range(length):\n",
        "    Distance_Matrix[i][j] = Distance(Coordinates[i][1],  Coordinates[i][2], Coordinates[j][1], Coordinates[j][2])"
      ],
      "execution_count": 0,
      "outputs": []
    },
    {
      "cell_type": "markdown",
      "metadata": {
        "id": "fWRPB0kaZtEm",
        "colab_type": "text"
      },
      "source": [
        "# First Tour"
      ]
    },
    {
      "cell_type": "code",
      "metadata": {
        "id": "Cdnwt7ClRCiq",
        "colab_type": "code",
        "colab": {}
      },
      "source": [
        "def First_Tour():\n",
        "  FirstTour = list(range(2, length+1))\n",
        "  return FirstTour"
      ],
      "execution_count": 0,
      "outputs": []
    },
    {
      "cell_type": "markdown",
      "metadata": {
        "id": "Jj5xPi8cZwon",
        "colab_type": "text"
      },
      "source": [
        "# Current Cost"
      ]
    },
    {
      "cell_type": "code",
      "metadata": {
        "id": "gI-ae4K0RFMS",
        "colab_type": "code",
        "colab": {}
      },
      "source": [
        "def FindCurrentCost(CurTour):\n",
        "    CurTour = [1] + CurTour + [1]\n",
        "    temporaryDis=0\n",
        "    for i in range(len(CurTour)-1):    \n",
        "       temporaryDis += Distance_Matrix[CurTour[i]-1,CurTour[i+1]-1]\n",
        "    return temporaryDis "
      ],
      "execution_count": 0,
      "outputs": []
    },
    {
      "cell_type": "markdown",
      "metadata": {
        "id": "muAevUMQc-5L",
        "colab_type": "text"
      },
      "source": [
        "# Plotting"
      ]
    },
    {
      "cell_type": "code",
      "metadata": {
        "id": "PMsh2JFIdBBE",
        "colab_type": "code",
        "colab": {}
      },
      "source": [
        "def Plotting(tour, coords):\n",
        "    n=len(tour)\n",
        "    longitude=[]\n",
        "    latitude=[]\n",
        "    \n",
        "    for i in range(n):\n",
        "            longitude.append(coords[tour[i]-1, 1])\n",
        "            latitude.append(coords[tour[i]-1, 2])\n",
        "    plt.figure()    \n",
        "    plt.plot([longitude[i] for i in range(n)],\n",
        "              [latitude[i] for i in range(n)],'-.', color='cornflowerblue')\n",
        "    plt.scatter(Coordinates[0][1], Coordinates[0][2], c = 'r', marker='D')\n",
        "    plt.scatter(Coordinates[1:,1], Coordinates[1:,2])"
      ],
      "execution_count": 0,
      "outputs": []
    },
    {
      "cell_type": "markdown",
      "metadata": {
        "id": "fhbKc_l1Z0DW",
        "colab_type": "text"
      },
      "source": [
        "# Brute Force\n"
      ]
    },
    {
      "cell_type": "code",
      "metadata": {
        "id": "xOAdA4AsSFi9",
        "colab_type": "code",
        "outputId": "04eb02ae-1625-4b0b-88a6-3ff6f06c4dc7",
        "colab": {
          "base_uri": "https://localhost:8080/",
          "height": 316
        }
      },
      "source": [
        "start = timer()\n",
        "\n",
        "firstpossible = First_Tour()\n",
        "All_Possible_Tours=list(permutations(firstpossible))\n",
        "\n",
        "Shortest_Tour_Cost = 9999\n",
        "\n",
        "for i in range(len(All_Possible_Tours)):\n",
        "    CurrentCost=FindCurrentCost(list(All_Possible_Tours[i]))\n",
        "    if CurrentCost < Shortest_Tour_Cost:\n",
        "        Shortest_Tour_Cost = CurrentCost\n",
        "        Shortest_Tour = list(All_Possible_Tours[i])\n",
        "        Shortest_Tour.insert(0,1)\n",
        "        Shortest_Tour.append(1)\n",
        "        \n",
        "end = timer() \n",
        "\n",
        "Plotting(Shortest_Tour, Coordinates)\n",
        "\n",
        "print(\"Shortest Tour:\",Shortest_Tour)\n",
        "print(\"Shortest Tour cost:\",\"{0:.3f}\".format(round(Shortest_Tour_Cost,3)))\n",
        "print(\"Calculation Time:\",\"{0:.4f}\".format(round((end - start),4)), \"sec\")"
      ],
      "execution_count": 0,
      "outputs": [
        {
          "output_type": "stream",
          "text": [
            "Shortest Tour: [1, 6, 9, 3, 5, 7, 10, 4, 2, 8, 1]\n",
            "Shortest Tour cost: 3.246\n",
            "Calculation Time: 1.9331 sec\n"
          ],
          "name": "stdout"
        },
        {
          "output_type": "display_data",
          "data": {
            "image/png": "[encoded data removed]",
            "text/plain": [
              "<Figure size 432x288 with 1 Axes>"
            ]
          },
          "metadata": {
            "tags": []
          }
        }
      ]
    }
  ]
}