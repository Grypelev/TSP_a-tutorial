{
  "nbformat": 4,
  "nbformat_minor": 0,
  "metadata": {
    "colab": {
      "name": "Dynamic_Programming.ipynb",
      "provenance": [],
      "collapsed_sections": [],
      "toc_visible": true
    },
    "kernelspec": {
      "name": "python3",
      "display_name": "Python 3"
    }
  },
  "cells": [
    {
      "cell_type": "markdown",
      "metadata": {
        "id": "PKtsMTSRZjDE",
        "colab_type": "text"
      },
      "source": [
        "# Initialization\n"
      ]
    },
    {
      "cell_type": "markdown",
      "metadata": {
        "id": "R0gRs0sibBVi",
        "colab_type": "text"
      },
      "source": [
        "The original implementation of Dynamic Programming belongs to Plinio Vargas.\n",
        "\n",
        "https://github.com/phvargas/TSP-python"
      ]
    },
    {
      "cell_type": "code",
      "metadata": {
        "id": "YGqOlMFImw_f",
        "colab_type": "code",
        "colab": {}
      },
      "source": [
        "from timeit import default_timer as timer\n",
        "from math import sqrt\n",
        "from random import random\n",
        "from google.colab import files\n",
        "from copy import deepcopy\n",
        "import numpy as np\n",
        "import matplotlib.pyplot as plt\n",
        "import pandas as pd"
      ],
      "execution_count": 0,
      "outputs": []
    },
    {
      "cell_type": "code",
      "metadata": {
        "id": "BhaUbqZum2vS",
        "colab_type": "code",
        "colab": {}
      },
      "source": [
        "# Download the \"Coors_140.csv\" from the GitHub repository and upload it\n",
        "uploaded = files.upload()"
      ],
      "execution_count": 0,
      "outputs": []
    },
    {
      "cell_type": "code",
      "metadata": {
        "id": "YBuo3HKGemPa",
        "colab_type": "code",
        "colab": {}
      },
      "source": [
        "coors = pd.read_csv(\"Coors_140.csv\") \n",
        "coords = coors.to_numpy()\n",
        "coords = np.delete(coords, 0,1)\n",
        "amount_of_coordinates = 15  # maximum 19\n",
        "Coordinates = coords[:amount_of_coordinates]\n",
        "\n",
        "#Plotting\n",
        "plt.scatter(Coordinates[0][1], Coordinates[0][2], c='r', marker='D')\n",
        "plt.scatter(Coordinates[1:,1], Coordinates[1:,2])"
      ],
      "execution_count": 0,
      "outputs": []
    },
    {
      "cell_type": "code",
      "metadata": {
        "id": "HU67XXEvekhy",
        "colab_type": "code",
        "colab": {}
      },
      "source": [
        "# If you prefer to generate the coordinates randomly, follow this step.\n",
        "\n",
        "nodes = 12   # maximum 19\n",
        "Coordinates = np.ones((nodes, 3))\n",
        "Coordinates[0] = 1, 0.5, 0.5\n",
        "\n",
        "for i in range(1, nodes):\n",
        "  Coordinates[i] = int(i+1), random(), random()\n",
        "\n",
        "#Plotting\n",
        "plt.scatter(Coordinates[0][1], Coordinates[0][2], c='r', marker='D')\n",
        "plt.scatter(Coordinates[1:,1], Coordinates[1:,2])"
      ],
      "execution_count": 0,
      "outputs": []
    },
    {
      "cell_type": "markdown",
      "metadata": {
        "id": "7syHZGZHZofq",
        "colab_type": "text"
      },
      "source": [
        "# Distance Matrix"
      ]
    },
    {
      "cell_type": "code",
      "metadata": {
        "id": "wjbnf6G1Uf5k",
        "colab_type": "code",
        "outputId": "c05164b5-8a90-452e-cf48-d915e0a4f884",
        "colab": {
          "base_uri": "https://localhost:8080/",
          "height": 282
        }
      },
      "source": [
        "def Distance(x1, y1, x2, y2):\n",
        "    return sqrt((x1-x2)**2+(y1-y2)**2)\n",
        "\n",
        "#Creating Distance Matrix\n",
        "length = len(Coordinates)\n",
        "Distance_Matrix = np.zeros((length, length))\n",
        "for i in range(length):\n",
        "  for j in range(length):\n",
        "    Distance_Matrix[i][j] = Distance(Coordinates[i][1],  Coordinates[i][2], Coordinates[j][1], Coordinates[j][2])  "
      ],
      "execution_count": 13,
      "outputs": [
        {
          "output_type": "execute_result",
          "data": {
            "text/plain": [
              "<matplotlib.collections.PathCollection at 0x7fa25626a9e8>"
            ]
          },
          "metadata": {
            "tags": []
          },
          "execution_count": 13
        },
        {
          "output_type": "display_data",
          "data": {
            "image/png": "[encoded data removed]",
            "text/plain": [
              "<Figure size 432x288 with 1 Axes>"
            ]
          },
          "metadata": {
            "tags": []
          }
        }
      ]
    },
    {
      "cell_type": "markdown",
      "metadata": {
        "id": "8J0BvNPkeEta",
        "colab_type": "text"
      },
      "source": [
        "# Cost of tour\n"
      ]
    },
    {
      "cell_type": "code",
      "metadata": {
        "id": "mODnnhVfY8Lq",
        "colab_type": "code",
        "colab": {}
      },
      "source": [
        "def FindCurrentCost(CurTour):\n",
        "    CurTour.insert(0,1)\n",
        "    CurTour.append(1)\n",
        "    temporaryDis=0\n",
        "    for i in range(len(CurTour)-1):    \n",
        "       temporaryDis += Distance_Matrix[CurTour[i]-1,CurTour[i+1]-1]\n",
        "    return temporaryDis "
      ],
      "execution_count": 0,
      "outputs": []
    },
    {
      "cell_type": "markdown",
      "metadata": {
        "id": "muAevUMQc-5L",
        "colab_type": "text"
      },
      "source": [
        "# Plotting"
      ]
    },
    {
      "cell_type": "code",
      "metadata": {
        "id": "PMsh2JFIdBBE",
        "colab_type": "code",
        "colab": {}
      },
      "source": [
        "def Plotting(tour, coords):\n",
        "    n=len(tour)\n",
        "    longitude=[]\n",
        "    latitude=[]\n",
        "    \n",
        "    for i in range(n):\n",
        "            longitude.append(coords[tour[i]-1, 1])\n",
        "            latitude.append(coords[tour[i]-1, 2])\n",
        "    plt.figure()    \n",
        "    plt.plot([longitude[i] for i in range(n)],\n",
        "              [latitude[i] for i in range(n)],'-.', color='cornflowerblue')\n",
        "    plt.scatter(Coordinates[0][1], Coordinates[0][2], c = 'r', marker='D')\n",
        "    plt.scatter(Coordinates[1:,1], Coordinates[1:,2])"
      ],
      "execution_count": 0,
      "outputs": []
    },
    {
      "cell_type": "markdown",
      "metadata": {
        "id": "H8-MifWTOOYz",
        "colab_type": "text"
      },
      "source": [
        "# Dynamic Programming\n"
      ]
    },
    {
      "cell_type": "code",
      "metadata": {
        "id": "7pGUaiwEmecu",
        "colab_type": "code",
        "outputId": "712bf2ef-9a70-45f1-fdfd-2bb4d8da56a7",
        "colab": {
          "base_uri": "https://localhost:8080/",
          "height": 316
        }
      },
      "source": [
        "n = len(Coordinates)\n",
        "Savings = {}\n",
        "p = []\n",
        "\n",
        "start = timer()\n",
        "\n",
        "def get_minimum(k, a):\n",
        "\n",
        "    if (k, a) in Savings:\n",
        "        return Savings[k, a]\n",
        "\n",
        "    values = []\n",
        "    all_min = []\n",
        "    for j in a:\n",
        "        set_a = deepcopy(list(a))\n",
        "        set_a.remove(j)\n",
        "        all_min.append([j, tuple(set_a)])\n",
        "        result = get_minimum(j, tuple(set_a))\n",
        "        values.append(Distance_Matrix[k-1][j-1] + result)\n",
        "\n",
        "    Savings[k, a] = min(values)\n",
        "    p.append(((k, a), all_min[values.index(Savings[k, a])]))\n",
        "\n",
        "    return Savings[k, a]\n",
        "\n",
        "for x in range(1, n):\n",
        "  Savings[x + 1, ()] = Distance_Matrix[x][0]\n",
        "\n",
        "get_minimum(1, tuple(range(2,len(Distance_Matrix)+1)))\n",
        "\n",
        "\n",
        "#Shortest tour \n",
        "solution = p.pop()\n",
        "Shortest_Tour = [1]\n",
        "Shortest_Tour.append(solution[1][0])\n",
        "\n",
        "for x in range(n - 2):\n",
        "  for new_solution in p:\n",
        "    if tuple(solution[1]) == new_solution[0]:\n",
        "      solution = new_solution\n",
        "      Shortest_Tour.append(solution[1][0])\n",
        "      break\n",
        "\n",
        "Shortest_Tour.append(1)\n",
        "Shortest_Tour_Cost = FindCurrentCost(Shortest_Tour)\n",
        "end = timer()\n",
        "\n",
        "print(\"Shortest Tour:\",Shortest_Tour)\n",
        "print(\"Shortest Tour cost:\",\"{0:.3f}\".format(round(Shortest_Tour_Cost,3)))\n",
        "print(\"Calculation Time:\",\"{0:.4f}\".format(round((end - start),4)), \"sec\")\n",
        "Plotting(Shortest_Tour, Coordinates)"
      ],
      "execution_count": 14,
      "outputs": [
        {
          "output_type": "stream",
          "text": [
            "Shortest Tour: [1, 1, 12, 8, 2, 14, 4, 10, 11, 7, 5, 3, 13, 9, 6, 1, 1]\n",
            "Shortest Tour cost: 3.557\n",
            "Calculation Time: 2.4557 sec\n"
          ],
          "name": "stdout"
        },
        {
          "output_type": "display_data",
          "data": {
            "image/png": "[encoded data removed]",
            "text/plain": [
              "<Figure size 432x288 with 1 Axes>"
            ]
          },
          "metadata": {
            "tags": []
          }
        }
      ]
    }
  ]
}