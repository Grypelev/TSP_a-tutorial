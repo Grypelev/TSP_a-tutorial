{
  "nbformat": 4,
  "nbformat_minor": 0,
  "metadata": {
    "colab": {
      "name": "2-Opt_Algorithm.ipynb",
      "provenance": [],
      "collapsed_sections": [],
      "toc_visible": true
    },
    "kernelspec": {
      "name": "python3",
      "display_name": "Python 3"
    }
  },
  "cells": [
    {
      "cell_type": "markdown",
      "metadata": {
        "id": "PKtsMTSRZjDE",
        "colab_type": "text"
      },
      "source": [
        "# Initialization\n"
      ]
    },
    {
      "cell_type": "code",
      "metadata": {
        "id": "Ff5HWATcQ2pS",
        "colab_type": "code",
        "colab": {}
      },
      "source": [
        "from itertools import permutations\n",
        "from timeit import default_timer as timer\n",
        "from random import random, shuffle\n",
        "from math import sqrt\n",
        "from google.colab import files\n",
        "import numpy as np\n",
        "import matplotlib.pyplot as plt\n",
        "import pandas as pd"
      ],
      "execution_count": 0,
      "outputs": []
    },
    {
      "cell_type": "code",
      "metadata": {
        "id": "PNPKo0VST7iS",
        "colab_type": "code",
        "colab": {}
      },
      "source": [
        "# Download the \"Coors_140.csv\" from the GitHub repository and upload it\n",
        "uploaded = files.upload()"
      ],
      "execution_count": 0,
      "outputs": []
    },
    {
      "cell_type": "code",
      "metadata": {
        "id": "YBuo3HKGemPa",
        "colab_type": "code",
        "colab": {}
      },
      "source": [
        "coors = pd.read_csv(\"Coors_140.csv\") \n",
        "coords = coors.to_numpy()\n",
        "coords = np.delete(coords, 0,1)\n",
        "amount_of_coordinates = 10  \n",
        "Coordinates = coords[:amount_of_coordinates]\n",
        "\n",
        "#Plotting\n",
        "plt.scatter(Coordinates[0][1], Coordinates[0][2], c='r', marker='D')\n",
        "plt.scatter(Coordinates[1:,1], Coordinates[1:,2])"
      ],
      "execution_count": 0,
      "outputs": []
    },
    {
      "cell_type": "code",
      "metadata": {
        "id": "HU67XXEvekhy",
        "colab_type": "code",
        "colab": {}
      },
      "source": [
        "# If you prefer to generate the coordinates randomly, follow this step.\n",
        "\n",
        "nodes = 80  \n",
        "Coordinates = np.ones((nodes, 3))\n",
        "Coordinates[0] = 1, 0.5, 0.5\n",
        "\n",
        "for i in range(1, nodes):\n",
        "  Coordinates[i] = int(i+1), random(), random()\n",
        "\n",
        "#Plotting\n",
        "plt.scatter(Coordinates[0][1], Coordinates[0][2], c='r', marker='D')\n",
        "plt.scatter(Coordinates[1:,1], Coordinates[1:,2])"
      ],
      "execution_count": 0,
      "outputs": []
    },
    {
      "cell_type": "markdown",
      "metadata": {
        "id": "I5BuBlE6bVQa",
        "colab_type": "text"
      },
      "source": [
        "# Coordinates and Distance Matrix"
      ]
    },
    {
      "cell_type": "code",
      "metadata": {
        "id": "2YAHjPVKoFFu",
        "colab_type": "code",
        "colab": {}
      },
      "source": [
        "def Distance(x1, y1, x2, y2):\n",
        "    return sqrt((x1-x2)**2+(y1-y2)**2)\n",
        "\n",
        "#Creating Distance Matrix\n",
        "length = len(Coordinates)\n",
        "Distance_Matrix = np.zeros((length, length))\n",
        "for i in range(length):\n",
        "  for j in range(length):\n",
        "    Distance_Matrix[i][j] = Distance(Coordinates[i][1],  Coordinates[i][2], Coordinates[j][1], Coordinates[j][2])"
      ],
      "execution_count": 0,
      "outputs": []
    },
    {
      "cell_type": "markdown",
      "metadata": {
        "id": "LaZRvjoybKaD",
        "colab_type": "text"
      },
      "source": [
        "# First Tour"
      ]
    },
    {
      "cell_type": "code",
      "metadata": {
        "id": "nymJvS_SwAM_",
        "colab_type": "code",
        "colab": {}
      },
      "source": [
        "def First_Tour():\n",
        "  FirstTour = list(range(2, length+1))\n",
        "  shuffle(FirstTour)\n",
        "  FirstTour = [1] + FirstTour + [1]\n",
        "  return FirstTour"
      ],
      "execution_count": 0,
      "outputs": []
    },
    {
      "cell_type": "markdown",
      "metadata": {
        "id": "2GkSpkGkV3p4",
        "colab_type": "text"
      },
      "source": [
        "# Plotting"
      ]
    },
    {
      "cell_type": "code",
      "metadata": {
        "id": "PSs80d2NrILV",
        "colab_type": "code",
        "colab": {}
      },
      "source": [
        "def Plotting(tour, coords):\n",
        "    n=len(tour)\n",
        "    longitude=[]\n",
        "    latitude=[]\n",
        "    \n",
        "    for i in range(n):\n",
        "            longitude.append(coords[tour[i]-1, 1])\n",
        "            latitude.append(coords[tour[i]-1, 2])\n",
        "    plt.figure()    \n",
        "    plt.plot([longitude[i] for i in range(n)],\n",
        "              [latitude[i] for i in range(n)],'-.', color='cornflowerblue')\n",
        "    plt.scatter(Coordinates[0][1], Coordinates[0][2], c = 'r', marker='D')\n",
        "    plt.scatter(Coordinates[1:,1], Coordinates[1:,2])"
      ],
      "execution_count": 0,
      "outputs": []
    },
    {
      "cell_type": "markdown",
      "metadata": {
        "id": "_Ww0eaDkVhfH",
        "colab_type": "text"
      },
      "source": [
        "# Current Cost"
      ]
    },
    {
      "cell_type": "code",
      "metadata": {
        "id": "QrvCgCiHVnFR",
        "colab_type": "code",
        "colab": {}
      },
      "source": [
        "def FindCurrentCost(CurTour):\n",
        "    temporaryDis=0\n",
        "    for i in range(len(CurTour)-1):    \n",
        "       temporaryDis += Distance_Matrix[CurTour[i]-1,CurTour[i+1]-1]\n",
        "    return temporaryDis "
      ],
      "execution_count": 0,
      "outputs": []
    },
    {
      "cell_type": "markdown",
      "metadata": {
        "id": "u5XM46OU1X_N",
        "colab_type": "text"
      },
      "source": [
        "# 2 Opt"
      ]
    },
    {
      "cell_type": "code",
      "metadata": {
        "id": "JGU6qnZx159s",
        "colab_type": "code",
        "colab": {}
      },
      "source": [
        "start = timer()\n",
        "route = First_Tour()\n",
        "best = route\n",
        "improved = True\n",
        "while improved:\n",
        "  improved = False\n",
        "  for i in range(1,len(route)-2):\n",
        "    for j in range(i+1, len(route)):\n",
        "      if j-i == 1: continue \n",
        "      new_route = route[:]\n",
        "      new_route[i:j] = route[j-1:i-1:-1]\n",
        "      if FindCurrentCost(new_route) < FindCurrentCost(best):\n",
        "        best = new_route\n",
        "        improved = True\n",
        "  route = best\n",
        "\n",
        "Shortest_Tour = route\n",
        "Shortest_Tour_Cost = FindCurrentCost(Shortest_Tour)\n",
        "end = timer() \n",
        "\n",
        "Plotting(Shortest_Tour, Coordinates)\n",
        "\n",
        "print(\"Shortest Tour:\",Shortest_Tour)\n",
        "print(\"Shortest Tour cost:\",\"{0:.3f}\".format(round(Shortest_Tour_Cost,3)))\n",
        "print(\"Calculation Time:\",\"{0:.4f}\".format(round((end - start),4)), \"sec\")"
      ],
      "execution_count": 0,
      "outputs": []
    }
  ]
}